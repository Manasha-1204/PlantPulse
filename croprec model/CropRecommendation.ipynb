{
  "nbformat": 4,
  "nbformat_minor": 0,
  "metadata": {
    "colab": {
      "provenance": [],
      "toc_visible": true
    },
    "kernelspec": {
      "name": "python3",
      "display_name": "Python 3"
    },
    "language_info": {
      "name": "python"
    }
  },
  "cells": [
    {
      "cell_type": "code",
      "execution_count": null,
      "metadata": {
        "id": "qkeBwG4h62oo"
      },
      "outputs": [],
      "source": [
        "import pandas as pd\n",
        "from sklearn.model_selection import train_test_split\n",
        "from sklearn.preprocessing import LabelEncoder, OneHotEncoder\n",
        "from tensorflow.keras.models import Sequential\n",
        "from tensorflow.keras.layers import Dense\n",
        "from sklearn.metrics import accuracy_score, mean_squared_error\n",
        "\n",
        "import tensorflow\n",
        "from tensorflow import keras\n"
      ]
    },
    {
      "cell_type": "code",
      "source": [
        "df = pd.read_csv('/content/Crop_recommendation.csv')\n",
        "df=df.drop('N',axis=1)\n",
        "df=df.drop('P',axis=1)\n",
        "df=df.drop('K',axis=1)\n",
        "df=df.drop('ph',axis=1)"
      ],
      "metadata": {
        "id": "TZAOX9H67WT7"
      },
      "execution_count": null,
      "outputs": []
    },
    {
      "cell_type": "code",
      "source": [
        "df"
      ],
      "metadata": {
        "colab": {
          "base_uri": "https://localhost:8080/",
          "height": 423
        },
        "id": "0eNuZ_f97XSM",
        "outputId": "a67ac62a-009a-48ce-a54c-e32391dcb4ab"
      },
      "execution_count": null,
      "outputs": [
        {
          "output_type": "execute_result",
          "data": {
            "text/plain": [
              "      temperature   humidity    rainfall   label\n",
              "0       20.879744  82.002744  202.935536    rice\n",
              "1       21.770462  80.319644  226.655537    rice\n",
              "2       23.004459  82.320763  263.964248    rice\n",
              "3       26.491096  80.158363  242.864034    rice\n",
              "4       20.130175  81.604873  262.717340    rice\n",
              "...           ...        ...         ...     ...\n",
              "2195    26.774637  66.413269  177.774507  coffee\n",
              "2196    27.417112  56.636362  127.924610  coffee\n",
              "2197    24.131797  67.225123  173.322839  coffee\n",
              "2198    26.272418  52.127394  127.175293  coffee\n",
              "2199    23.603016  60.396475  140.937041  coffee\n",
              "\n",
              "[2200 rows x 4 columns]"
            ],
            "text/html": [
              "\n",
              "  <div id=\"df-f95a0615-1521-4c05-ac48-5108a7637c78\" class=\"colab-df-container\">\n",
              "    <div>\n",
              "<style scoped>\n",
              "    .dataframe tbody tr th:only-of-type {\n",
              "        vertical-align: middle;\n",
              "    }\n",
              "\n",
              "    .dataframe tbody tr th {\n",
              "        vertical-align: top;\n",
              "    }\n",
              "\n",
              "    .dataframe thead th {\n",
              "        text-align: right;\n",
              "    }\n",
              "</style>\n",
              "<table border=\"1\" class=\"dataframe\">\n",
              "  <thead>\n",
              "    <tr style=\"text-align: right;\">\n",
              "      <th></th>\n",
              "      <th>temperature</th>\n",
              "      <th>humidity</th>\n",
              "      <th>rainfall</th>\n",
              "      <th>label</th>\n",
              "    </tr>\n",
              "  </thead>\n",
              "  <tbody>\n",
              "    <tr>\n",
              "      <th>0</th>\n",
              "      <td>20.879744</td>\n",
              "      <td>82.002744</td>\n",
              "      <td>202.935536</td>\n",
              "      <td>rice</td>\n",
              "    </tr>\n",
              "    <tr>\n",
              "      <th>1</th>\n",
              "      <td>21.770462</td>\n",
              "      <td>80.319644</td>\n",
              "      <td>226.655537</td>\n",
              "      <td>rice</td>\n",
              "    </tr>\n",
              "    <tr>\n",
              "      <th>2</th>\n",
              "      <td>23.004459</td>\n",
              "      <td>82.320763</td>\n",
              "      <td>263.964248</td>\n",
              "      <td>rice</td>\n",
              "    </tr>\n",
              "    <tr>\n",
              "      <th>3</th>\n",
              "      <td>26.491096</td>\n",
              "      <td>80.158363</td>\n",
              "      <td>242.864034</td>\n",
              "      <td>rice</td>\n",
              "    </tr>\n",
              "    <tr>\n",
              "      <th>4</th>\n",
              "      <td>20.130175</td>\n",
              "      <td>81.604873</td>\n",
              "      <td>262.717340</td>\n",
              "      <td>rice</td>\n",
              "    </tr>\n",
              "    <tr>\n",
              "      <th>...</th>\n",
              "      <td>...</td>\n",
              "      <td>...</td>\n",
              "      <td>...</td>\n",
              "      <td>...</td>\n",
              "    </tr>\n",
              "    <tr>\n",
              "      <th>2195</th>\n",
              "      <td>26.774637</td>\n",
              "      <td>66.413269</td>\n",
              "      <td>177.774507</td>\n",
              "      <td>coffee</td>\n",
              "    </tr>\n",
              "    <tr>\n",
              "      <th>2196</th>\n",
              "      <td>27.417112</td>\n",
              "      <td>56.636362</td>\n",
              "      <td>127.924610</td>\n",
              "      <td>coffee</td>\n",
              "    </tr>\n",
              "    <tr>\n",
              "      <th>2197</th>\n",
              "      <td>24.131797</td>\n",
              "      <td>67.225123</td>\n",
              "      <td>173.322839</td>\n",
              "      <td>coffee</td>\n",
              "    </tr>\n",
              "    <tr>\n",
              "      <th>2198</th>\n",
              "      <td>26.272418</td>\n",
              "      <td>52.127394</td>\n",
              "      <td>127.175293</td>\n",
              "      <td>coffee</td>\n",
              "    </tr>\n",
              "    <tr>\n",
              "      <th>2199</th>\n",
              "      <td>23.603016</td>\n",
              "      <td>60.396475</td>\n",
              "      <td>140.937041</td>\n",
              "      <td>coffee</td>\n",
              "    </tr>\n",
              "  </tbody>\n",
              "</table>\n",
              "<p>2200 rows × 4 columns</p>\n",
              "</div>\n",
              "    <div class=\"colab-df-buttons\">\n",
              "\n",
              "  <div class=\"colab-df-container\">\n",
              "    <button class=\"colab-df-convert\" onclick=\"convertToInteractive('df-f95a0615-1521-4c05-ac48-5108a7637c78')\"\n",
              "            title=\"Convert this dataframe to an interactive table.\"\n",
              "            style=\"display:none;\">\n",
              "\n",
              "  <svg xmlns=\"http://www.w3.org/2000/svg\" height=\"24px\" viewBox=\"0 -960 960 960\">\n",
              "    <path d=\"M120-120v-720h720v720H120Zm60-500h600v-160H180v160Zm220 220h160v-160H400v160Zm0 220h160v-160H400v160ZM180-400h160v-160H180v160Zm440 0h160v-160H620v160ZM180-180h160v-160H180v160Zm440 0h160v-160H620v160Z\"/>\n",
              "  </svg>\n",
              "    </button>\n",
              "\n",
              "  <style>\n",
              "    .colab-df-container {\n",
              "      display:flex;\n",
              "      gap: 12px;\n",
              "    }\n",
              "\n",
              "    .colab-df-convert {\n",
              "      background-color: #E8F0FE;\n",
              "      border: none;\n",
              "      border-radius: 50%;\n",
              "      cursor: pointer;\n",
              "      display: none;\n",
              "      fill: #1967D2;\n",
              "      height: 32px;\n",
              "      padding: 0 0 0 0;\n",
              "      width: 32px;\n",
              "    }\n",
              "\n",
              "    .colab-df-convert:hover {\n",
              "      background-color: #E2EBFA;\n",
              "      box-shadow: 0px 1px 2px rgba(60, 64, 67, 0.3), 0px 1px 3px 1px rgba(60, 64, 67, 0.15);\n",
              "      fill: #174EA6;\n",
              "    }\n",
              "\n",
              "    .colab-df-buttons div {\n",
              "      margin-bottom: 4px;\n",
              "    }\n",
              "\n",
              "    [theme=dark] .colab-df-convert {\n",
              "      background-color: #3B4455;\n",
              "      fill: #D2E3FC;\n",
              "    }\n",
              "\n",
              "    [theme=dark] .colab-df-convert:hover {\n",
              "      background-color: #434B5C;\n",
              "      box-shadow: 0px 1px 3px 1px rgba(0, 0, 0, 0.15);\n",
              "      filter: drop-shadow(0px 1px 2px rgba(0, 0, 0, 0.3));\n",
              "      fill: #FFFFFF;\n",
              "    }\n",
              "  </style>\n",
              "\n",
              "    <script>\n",
              "      const buttonEl =\n",
              "        document.querySelector('#df-f95a0615-1521-4c05-ac48-5108a7637c78 button.colab-df-convert');\n",
              "      buttonEl.style.display =\n",
              "        google.colab.kernel.accessAllowed ? 'block' : 'none';\n",
              "\n",
              "      async function convertToInteractive(key) {\n",
              "        const element = document.querySelector('#df-f95a0615-1521-4c05-ac48-5108a7637c78');\n",
              "        const dataTable =\n",
              "          await google.colab.kernel.invokeFunction('convertToInteractive',\n",
              "                                                    [key], {});\n",
              "        if (!dataTable) return;\n",
              "\n",
              "        const docLinkHtml = 'Like what you see? Visit the ' +\n",
              "          '<a target=\"_blank\" href=https://colab.research.google.com/notebooks/data_table.ipynb>data table notebook</a>'\n",
              "          + ' to learn more about interactive tables.';\n",
              "        element.innerHTML = '';\n",
              "        dataTable['output_type'] = 'display_data';\n",
              "        await google.colab.output.renderOutput(dataTable, element);\n",
              "        const docLink = document.createElement('div');\n",
              "        docLink.innerHTML = docLinkHtml;\n",
              "        element.appendChild(docLink);\n",
              "      }\n",
              "    </script>\n",
              "  </div>\n",
              "\n",
              "\n",
              "<div id=\"df-bc25dbba-7b74-4bae-b250-f19ff74e90fd\">\n",
              "  <button class=\"colab-df-quickchart\" onclick=\"quickchart('df-bc25dbba-7b74-4bae-b250-f19ff74e90fd')\"\n",
              "            title=\"Suggest charts\"\n",
              "            style=\"display:none;\">\n",
              "\n",
              "<svg xmlns=\"http://www.w3.org/2000/svg\" height=\"24px\"viewBox=\"0 0 24 24\"\n",
              "     width=\"24px\">\n",
              "    <g>\n",
              "        <path d=\"M19 3H5c-1.1 0-2 .9-2 2v14c0 1.1.9 2 2 2h14c1.1 0 2-.9 2-2V5c0-1.1-.9-2-2-2zM9 17H7v-7h2v7zm4 0h-2V7h2v10zm4 0h-2v-4h2v4z\"/>\n",
              "    </g>\n",
              "</svg>\n",
              "  </button>\n",
              "\n",
              "<style>\n",
              "  .colab-df-quickchart {\n",
              "      --bg-color: #E8F0FE;\n",
              "      --fill-color: #1967D2;\n",
              "      --hover-bg-color: #E2EBFA;\n",
              "      --hover-fill-color: #174EA6;\n",
              "      --disabled-fill-color: #AAA;\n",
              "      --disabled-bg-color: #DDD;\n",
              "  }\n",
              "\n",
              "  [theme=dark] .colab-df-quickchart {\n",
              "      --bg-color: #3B4455;\n",
              "      --fill-color: #D2E3FC;\n",
              "      --hover-bg-color: #434B5C;\n",
              "      --hover-fill-color: #FFFFFF;\n",
              "      --disabled-bg-color: #3B4455;\n",
              "      --disabled-fill-color: #666;\n",
              "  }\n",
              "\n",
              "  .colab-df-quickchart {\n",
              "    background-color: var(--bg-color);\n",
              "    border: none;\n",
              "    border-radius: 50%;\n",
              "    cursor: pointer;\n",
              "    display: none;\n",
              "    fill: var(--fill-color);\n",
              "    height: 32px;\n",
              "    padding: 0;\n",
              "    width: 32px;\n",
              "  }\n",
              "\n",
              "  .colab-df-quickchart:hover {\n",
              "    background-color: var(--hover-bg-color);\n",
              "    box-shadow: 0 1px 2px rgba(60, 64, 67, 0.3), 0 1px 3px 1px rgba(60, 64, 67, 0.15);\n",
              "    fill: var(--button-hover-fill-color);\n",
              "  }\n",
              "\n",
              "  .colab-df-quickchart-complete:disabled,\n",
              "  .colab-df-quickchart-complete:disabled:hover {\n",
              "    background-color: var(--disabled-bg-color);\n",
              "    fill: var(--disabled-fill-color);\n",
              "    box-shadow: none;\n",
              "  }\n",
              "\n",
              "  .colab-df-spinner {\n",
              "    border: 2px solid var(--fill-color);\n",
              "    border-color: transparent;\n",
              "    border-bottom-color: var(--fill-color);\n",
              "    animation:\n",
              "      spin 1s steps(1) infinite;\n",
              "  }\n",
              "\n",
              "  @keyframes spin {\n",
              "    0% {\n",
              "      border-color: transparent;\n",
              "      border-bottom-color: var(--fill-color);\n",
              "      border-left-color: var(--fill-color);\n",
              "    }\n",
              "    20% {\n",
              "      border-color: transparent;\n",
              "      border-left-color: var(--fill-color);\n",
              "      border-top-color: var(--fill-color);\n",
              "    }\n",
              "    30% {\n",
              "      border-color: transparent;\n",
              "      border-left-color: var(--fill-color);\n",
              "      border-top-color: var(--fill-color);\n",
              "      border-right-color: var(--fill-color);\n",
              "    }\n",
              "    40% {\n",
              "      border-color: transparent;\n",
              "      border-right-color: var(--fill-color);\n",
              "      border-top-color: var(--fill-color);\n",
              "    }\n",
              "    60% {\n",
              "      border-color: transparent;\n",
              "      border-right-color: var(--fill-color);\n",
              "    }\n",
              "    80% {\n",
              "      border-color: transparent;\n",
              "      border-right-color: var(--fill-color);\n",
              "      border-bottom-color: var(--fill-color);\n",
              "    }\n",
              "    90% {\n",
              "      border-color: transparent;\n",
              "      border-bottom-color: var(--fill-color);\n",
              "    }\n",
              "  }\n",
              "</style>\n",
              "\n",
              "  <script>\n",
              "    async function quickchart(key) {\n",
              "      const quickchartButtonEl =\n",
              "        document.querySelector('#' + key + ' button');\n",
              "      quickchartButtonEl.disabled = true;  // To prevent multiple clicks.\n",
              "      quickchartButtonEl.classList.add('colab-df-spinner');\n",
              "      try {\n",
              "        const charts = await google.colab.kernel.invokeFunction(\n",
              "            'suggestCharts', [key], {});\n",
              "      } catch (error) {\n",
              "        console.error('Error during call to suggestCharts:', error);\n",
              "      }\n",
              "      quickchartButtonEl.classList.remove('colab-df-spinner');\n",
              "      quickchartButtonEl.classList.add('colab-df-quickchart-complete');\n",
              "    }\n",
              "    (() => {\n",
              "      let quickchartButtonEl =\n",
              "        document.querySelector('#df-bc25dbba-7b74-4bae-b250-f19ff74e90fd button');\n",
              "      quickchartButtonEl.style.display =\n",
              "        google.colab.kernel.accessAllowed ? 'block' : 'none';\n",
              "    })();\n",
              "  </script>\n",
              "</div>\n",
              "\n",
              "  <div id=\"id_43b50f60-7fe6-4502-b6f1-d209216a9398\">\n",
              "    <style>\n",
              "      .colab-df-generate {\n",
              "        background-color: #E8F0FE;\n",
              "        border: none;\n",
              "        border-radius: 50%;\n",
              "        cursor: pointer;\n",
              "        display: none;\n",
              "        fill: #1967D2;\n",
              "        height: 32px;\n",
              "        padding: 0 0 0 0;\n",
              "        width: 32px;\n",
              "      }\n",
              "\n",
              "      .colab-df-generate:hover {\n",
              "        background-color: #E2EBFA;\n",
              "        box-shadow: 0px 1px 2px rgba(60, 64, 67, 0.3), 0px 1px 3px 1px rgba(60, 64, 67, 0.15);\n",
              "        fill: #174EA6;\n",
              "      }\n",
              "\n",
              "      [theme=dark] .colab-df-generate {\n",
              "        background-color: #3B4455;\n",
              "        fill: #D2E3FC;\n",
              "      }\n",
              "\n",
              "      [theme=dark] .colab-df-generate:hover {\n",
              "        background-color: #434B5C;\n",
              "        box-shadow: 0px 1px 3px 1px rgba(0, 0, 0, 0.15);\n",
              "        filter: drop-shadow(0px 1px 2px rgba(0, 0, 0, 0.3));\n",
              "        fill: #FFFFFF;\n",
              "      }\n",
              "    </style>\n",
              "    <button class=\"colab-df-generate\" onclick=\"generateWithVariable('df')\"\n",
              "            title=\"Generate code using this dataframe.\"\n",
              "            style=\"display:none;\">\n",
              "\n",
              "  <svg xmlns=\"http://www.w3.org/2000/svg\" height=\"24px\"viewBox=\"0 0 24 24\"\n",
              "       width=\"24px\">\n",
              "    <path d=\"M7,19H8.4L18.45,9,17,7.55,7,17.6ZM5,21V16.75L18.45,3.32a2,2,0,0,1,2.83,0l1.4,1.43a1.91,1.91,0,0,1,.58,1.4,1.91,1.91,0,0,1-.58,1.4L9.25,21ZM18.45,9,17,7.55Zm-12,3A5.31,5.31,0,0,0,4.9,8.1,5.31,5.31,0,0,0,1,6.5,5.31,5.31,0,0,0,4.9,4.9,5.31,5.31,0,0,0,6.5,1,5.31,5.31,0,0,0,8.1,4.9,5.31,5.31,0,0,0,12,6.5,5.46,5.46,0,0,0,6.5,12Z\"/>\n",
              "  </svg>\n",
              "    </button>\n",
              "    <script>\n",
              "      (() => {\n",
              "      const buttonEl =\n",
              "        document.querySelector('#id_43b50f60-7fe6-4502-b6f1-d209216a9398 button.colab-df-generate');\n",
              "      buttonEl.style.display =\n",
              "        google.colab.kernel.accessAllowed ? 'block' : 'none';\n",
              "\n",
              "      buttonEl.onclick = () => {\n",
              "        google.colab.notebook.generateWithVariable('df');\n",
              "      }\n",
              "      })();\n",
              "    </script>\n",
              "  </div>\n",
              "\n",
              "    </div>\n",
              "  </div>\n"
            ],
            "application/vnd.google.colaboratory.intrinsic+json": {
              "type": "dataframe",
              "variable_name": "df",
              "summary": "{\n  \"name\": \"df\",\n  \"rows\": 2200,\n  \"fields\": [\n    {\n      \"column\": \"temperature\",\n      \"properties\": {\n        \"dtype\": \"number\",\n        \"std\": 5.063748599958843,\n        \"min\": 8.825674745,\n        \"max\": 43.67549305,\n        \"num_unique_values\": 2200,\n        \"samples\": [\n          29.49401389,\n          26.1793464,\n          43.36051537\n        ],\n        \"semantic_type\": \"\",\n        \"description\": \"\"\n      }\n    },\n    {\n      \"column\": \"humidity\",\n      \"properties\": {\n        \"dtype\": \"number\",\n        \"std\": 22.263811589761083,\n        \"min\": 14.25803981,\n        \"max\": 99.98187601,\n        \"num_unique_values\": 2200,\n        \"samples\": [\n          94.72981338,\n          86.52258079,\n          93.35191636\n        ],\n        \"semantic_type\": \"\",\n        \"description\": \"\"\n      }\n    },\n    {\n      \"column\": \"rainfall\",\n      \"properties\": {\n        \"dtype\": \"number\",\n        \"std\": 54.95838852487813,\n        \"min\": 20.21126747,\n        \"max\": 298.5601175,\n        \"num_unique_values\": 2200,\n        \"samples\": [\n          26.30820876,\n          49.43050977,\n          114.778071\n        ],\n        \"semantic_type\": \"\",\n        \"description\": \"\"\n      }\n    },\n    {\n      \"column\": \"label\",\n      \"properties\": {\n        \"dtype\": \"category\",\n        \"num_unique_values\": 22,\n        \"samples\": [\n          \"rice\",\n          \"watermelon\",\n          \"lentil\"\n        ],\n        \"semantic_type\": \"\",\n        \"description\": \"\"\n      }\n    }\n  ]\n}"
            }
          },
          "metadata": {},
          "execution_count": 4
        }
      ]
    },
    {
      "cell_type": "code",
      "source": [
        "X = df.drop(['label'],axis=1)\n",
        "y = df['label']\n",
        "print(len(set(y)))"
      ],
      "metadata": {
        "colab": {
          "base_uri": "https://localhost:8080/"
        },
        "id": "AkxYSXON7XU8",
        "outputId": "982c62bb-e82e-471e-d839-0b640388f827"
      },
      "execution_count": null,
      "outputs": [
        {
          "output_type": "stream",
          "name": "stdout",
          "text": [
            "22\n"
          ]
        }
      ]
    },
    {
      "cell_type": "code",
      "source": [
        "le = LabelEncoder()\n",
        "y = le.fit_transform(y)"
      ],
      "metadata": {
        "id": "PET3kC4o9lGr"
      },
      "execution_count": null,
      "outputs": []
    },
    {
      "cell_type": "code",
      "source": [
        "X_train, X_test, y_train, y_test = train_test_split(X, y, test_size=0.2, random_state=42)"
      ],
      "metadata": {
        "id": "bHXjMDML77Cw"
      },
      "execution_count": null,
      "outputs": []
    },
    {
      "cell_type": "code",
      "source": [
        "model = Sequential()\n",
        "model.add(Dense(units=32, activation='relu', input_dim=len(X_train.columns)))\n",
        "model.add(Dense(units=64, activation='relu'))"
      ],
      "metadata": {
        "id": "UHj4UV-q7Xa5"
      },
      "execution_count": null,
      "outputs": []
    },
    {
      "cell_type": "code",
      "source": [
        "num_classes = len(set(y))\n",
        "model.add(Dense(units=num_classes, activation='softmax'))\n"
      ],
      "metadata": {
        "id": "Eqyq-1Rd7Xds"
      },
      "execution_count": null,
      "outputs": []
    },
    {
      "cell_type": "code",
      "source": [
        "model.compile(loss='sparse_categorical_crossentropy', optimizer='adam', metrics=['accuracy'])"
      ],
      "metadata": {
        "id": "LexBLype7XhC"
      },
      "execution_count": null,
      "outputs": []
    },
    {
      "cell_type": "code",
      "source": [
        "model.fit(X_train, y_train, epochs=100, batch_size=32)"
      ],
      "metadata": {
        "colab": {
          "base_uri": "https://localhost:8080/"
        },
        "id": "v-R_V7NR7Xkd",
        "outputId": "bbe58e7a-f532-4b80-9889-7c7897b441d3"
      },
      "execution_count": null,
      "outputs": [
        {
          "output_type": "stream",
          "name": "stdout",
          "text": [
            "Epoch 1/100\n",
            "55/55 [==============================] - 1s 2ms/step - loss: 14.1087 - accuracy: 0.0699\n",
            "Epoch 2/100\n",
            "55/55 [==============================] - 0s 2ms/step - loss: 2.3420 - accuracy: 0.2670\n",
            "Epoch 3/100\n",
            "55/55 [==============================] - 0s 2ms/step - loss: 1.9648 - accuracy: 0.3330\n",
            "Epoch 4/100\n",
            "55/55 [==============================] - 0s 2ms/step - loss: 1.8277 - accuracy: 0.3614\n",
            "Epoch 5/100\n",
            "55/55 [==============================] - 0s 2ms/step - loss: 1.6670 - accuracy: 0.3875\n",
            "Epoch 6/100\n",
            "55/55 [==============================] - 0s 2ms/step - loss: 1.5886 - accuracy: 0.4068\n",
            "Epoch 7/100\n",
            "55/55 [==============================] - 0s 2ms/step - loss: 1.5104 - accuracy: 0.4227\n",
            "Epoch 8/100\n",
            "55/55 [==============================] - 0s 2ms/step - loss: 1.4757 - accuracy: 0.4528\n",
            "Epoch 9/100\n",
            "55/55 [==============================] - 0s 2ms/step - loss: 1.4104 - accuracy: 0.4881\n",
            "Epoch 10/100\n",
            "55/55 [==============================] - 0s 2ms/step - loss: 1.4474 - accuracy: 0.4739\n",
            "Epoch 11/100\n",
            "55/55 [==============================] - 0s 2ms/step - loss: 1.3906 - accuracy: 0.4727\n",
            "Epoch 12/100\n",
            "55/55 [==============================] - 0s 2ms/step - loss: 1.3651 - accuracy: 0.4830\n",
            "Epoch 13/100\n",
            "55/55 [==============================] - 0s 2ms/step - loss: 1.3498 - accuracy: 0.5085\n",
            "Epoch 14/100\n",
            "55/55 [==============================] - 0s 2ms/step - loss: 1.2759 - accuracy: 0.5131\n",
            "Epoch 15/100\n",
            "55/55 [==============================] - 0s 2ms/step - loss: 1.2695 - accuracy: 0.5267\n",
            "Epoch 16/100\n",
            "55/55 [==============================] - 0s 2ms/step - loss: 1.2721 - accuracy: 0.5273\n",
            "Epoch 17/100\n",
            "55/55 [==============================] - 0s 2ms/step - loss: 1.2294 - accuracy: 0.5290\n",
            "Epoch 18/100\n",
            "55/55 [==============================] - 0s 2ms/step - loss: 1.2560 - accuracy: 0.5290\n",
            "Epoch 19/100\n",
            "55/55 [==============================] - 0s 2ms/step - loss: 1.2382 - accuracy: 0.5307\n",
            "Epoch 20/100\n",
            "55/55 [==============================] - 0s 2ms/step - loss: 1.2197 - accuracy: 0.5398\n",
            "Epoch 21/100\n",
            "55/55 [==============================] - 0s 2ms/step - loss: 1.2407 - accuracy: 0.5290\n",
            "Epoch 22/100\n",
            "55/55 [==============================] - 0s 2ms/step - loss: 1.2064 - accuracy: 0.5523\n",
            "Epoch 23/100\n",
            "55/55 [==============================] - 0s 2ms/step - loss: 1.2101 - accuracy: 0.5665\n",
            "Epoch 24/100\n",
            "55/55 [==============================] - 0s 2ms/step - loss: 1.1737 - accuracy: 0.5580\n",
            "Epoch 25/100\n",
            "55/55 [==============================] - 0s 2ms/step - loss: 1.1315 - accuracy: 0.5653\n",
            "Epoch 26/100\n",
            "55/55 [==============================] - 0s 2ms/step - loss: 1.1678 - accuracy: 0.5602\n",
            "Epoch 27/100\n",
            "55/55 [==============================] - 0s 2ms/step - loss: 1.1509 - accuracy: 0.5580\n",
            "Epoch 28/100\n",
            "55/55 [==============================] - 0s 2ms/step - loss: 1.1453 - accuracy: 0.5608\n",
            "Epoch 29/100\n",
            "55/55 [==============================] - 0s 2ms/step - loss: 1.1354 - accuracy: 0.5642\n",
            "Epoch 30/100\n",
            "55/55 [==============================] - 0s 2ms/step - loss: 1.1462 - accuracy: 0.5693\n",
            "Epoch 31/100\n",
            "55/55 [==============================] - 0s 2ms/step - loss: 1.1028 - accuracy: 0.5705\n",
            "Epoch 32/100\n",
            "55/55 [==============================] - 0s 2ms/step - loss: 1.0695 - accuracy: 0.5915\n",
            "Epoch 33/100\n",
            "55/55 [==============================] - 0s 2ms/step - loss: 1.0915 - accuracy: 0.5693\n",
            "Epoch 34/100\n",
            "55/55 [==============================] - 0s 2ms/step - loss: 1.0884 - accuracy: 0.5688\n",
            "Epoch 35/100\n",
            "55/55 [==============================] - 0s 2ms/step - loss: 1.0680 - accuracy: 0.5830\n",
            "Epoch 36/100\n",
            "55/55 [==============================] - 0s 2ms/step - loss: 1.0936 - accuracy: 0.5835\n",
            "Epoch 37/100\n",
            "55/55 [==============================] - 0s 2ms/step - loss: 1.0850 - accuracy: 0.5756\n",
            "Epoch 38/100\n",
            "55/55 [==============================] - 0s 2ms/step - loss: 1.1040 - accuracy: 0.5898\n",
            "Epoch 39/100\n",
            "55/55 [==============================] - 0s 2ms/step - loss: 1.0627 - accuracy: 0.5909\n",
            "Epoch 40/100\n",
            "55/55 [==============================] - 0s 2ms/step - loss: 1.1292 - accuracy: 0.5523\n",
            "Epoch 41/100\n",
            "55/55 [==============================] - 0s 2ms/step - loss: 1.0480 - accuracy: 0.5852\n",
            "Epoch 42/100\n",
            "55/55 [==============================] - 0s 2ms/step - loss: 1.0360 - accuracy: 0.5955\n",
            "Epoch 43/100\n",
            "55/55 [==============================] - 0s 2ms/step - loss: 1.0688 - accuracy: 0.5903\n",
            "Epoch 44/100\n",
            "55/55 [==============================] - 0s 2ms/step - loss: 1.0487 - accuracy: 0.6057\n",
            "Epoch 45/100\n",
            "55/55 [==============================] - 0s 2ms/step - loss: 1.0293 - accuracy: 0.5881\n",
            "Epoch 46/100\n",
            "55/55 [==============================] - 0s 2ms/step - loss: 1.0247 - accuracy: 0.6051\n",
            "Epoch 47/100\n",
            "55/55 [==============================] - 0s 2ms/step - loss: 1.0347 - accuracy: 0.6006\n",
            "Epoch 48/100\n",
            "55/55 [==============================] - 0s 2ms/step - loss: 1.0544 - accuracy: 0.5818\n",
            "Epoch 49/100\n",
            "55/55 [==============================] - 0s 2ms/step - loss: 1.0407 - accuracy: 0.5830\n",
            "Epoch 50/100\n",
            "55/55 [==============================] - 0s 3ms/step - loss: 1.0157 - accuracy: 0.5966\n",
            "Epoch 51/100\n",
            "55/55 [==============================] - 0s 3ms/step - loss: 1.0461 - accuracy: 0.5915\n",
            "Epoch 52/100\n",
            "55/55 [==============================] - 0s 3ms/step - loss: 0.9982 - accuracy: 0.6153\n",
            "Epoch 53/100\n",
            "55/55 [==============================] - 0s 3ms/step - loss: 0.9740 - accuracy: 0.6307\n",
            "Epoch 54/100\n",
            "55/55 [==============================] - 0s 3ms/step - loss: 0.9719 - accuracy: 0.6108\n",
            "Epoch 55/100\n",
            "55/55 [==============================] - 0s 3ms/step - loss: 0.9927 - accuracy: 0.6091\n",
            "Epoch 56/100\n",
            "55/55 [==============================] - 0s 3ms/step - loss: 1.0076 - accuracy: 0.6216\n",
            "Epoch 57/100\n",
            "55/55 [==============================] - 0s 3ms/step - loss: 0.9996 - accuracy: 0.6114\n",
            "Epoch 58/100\n",
            "55/55 [==============================] - 0s 3ms/step - loss: 0.9717 - accuracy: 0.6142\n",
            "Epoch 59/100\n",
            "55/55 [==============================] - 0s 3ms/step - loss: 0.9677 - accuracy: 0.6301\n",
            "Epoch 60/100\n",
            "55/55 [==============================] - 0s 3ms/step - loss: 1.0295 - accuracy: 0.6040\n",
            "Epoch 61/100\n",
            "55/55 [==============================] - 0s 3ms/step - loss: 0.9749 - accuracy: 0.6199\n",
            "Epoch 62/100\n",
            "55/55 [==============================] - 0s 3ms/step - loss: 0.9522 - accuracy: 0.6278\n",
            "Epoch 63/100\n",
            "55/55 [==============================] - 0s 3ms/step - loss: 0.9342 - accuracy: 0.6369\n",
            "Epoch 64/100\n",
            "55/55 [==============================] - 0s 3ms/step - loss: 0.9848 - accuracy: 0.6153\n",
            "Epoch 65/100\n",
            "55/55 [==============================] - 0s 3ms/step - loss: 0.9702 - accuracy: 0.6295\n",
            "Epoch 66/100\n",
            "55/55 [==============================] - 0s 3ms/step - loss: 0.9422 - accuracy: 0.6364\n",
            "Epoch 67/100\n",
            "55/55 [==============================] - 0s 3ms/step - loss: 0.9332 - accuracy: 0.6273\n",
            "Epoch 68/100\n",
            "55/55 [==============================] - 0s 3ms/step - loss: 0.9650 - accuracy: 0.6261\n",
            "Epoch 69/100\n",
            "55/55 [==============================] - 0s 3ms/step - loss: 0.9841 - accuracy: 0.6057\n",
            "Epoch 70/100\n",
            "55/55 [==============================] - 0s 3ms/step - loss: 0.9463 - accuracy: 0.6210\n",
            "Epoch 71/100\n",
            "55/55 [==============================] - 0s 3ms/step - loss: 0.9349 - accuracy: 0.6409\n",
            "Epoch 72/100\n",
            "55/55 [==============================] - 0s 3ms/step - loss: 0.9172 - accuracy: 0.6460\n",
            "Epoch 73/100\n",
            "55/55 [==============================] - 0s 3ms/step - loss: 0.9233 - accuracy: 0.6239\n",
            "Epoch 74/100\n",
            "55/55 [==============================] - 0s 3ms/step - loss: 0.9147 - accuracy: 0.6386\n",
            "Epoch 75/100\n",
            "55/55 [==============================] - 0s 2ms/step - loss: 0.9525 - accuracy: 0.6398\n",
            "Epoch 76/100\n",
            "55/55 [==============================] - 0s 2ms/step - loss: 0.9007 - accuracy: 0.6375\n",
            "Epoch 77/100\n",
            "55/55 [==============================] - 0s 2ms/step - loss: 0.9392 - accuracy: 0.6295\n",
            "Epoch 78/100\n",
            "55/55 [==============================] - 0s 2ms/step - loss: 0.8801 - accuracy: 0.6540\n",
            "Epoch 79/100\n",
            "55/55 [==============================] - 0s 2ms/step - loss: 0.9123 - accuracy: 0.6466\n",
            "Epoch 80/100\n",
            "55/55 [==============================] - 0s 2ms/step - loss: 0.8885 - accuracy: 0.6540\n",
            "Epoch 81/100\n",
            "55/55 [==============================] - 0s 2ms/step - loss: 0.8801 - accuracy: 0.6653\n",
            "Epoch 82/100\n",
            "55/55 [==============================] - 0s 2ms/step - loss: 0.8909 - accuracy: 0.6483\n",
            "Epoch 83/100\n",
            "55/55 [==============================] - 0s 2ms/step - loss: 0.8905 - accuracy: 0.6540\n",
            "Epoch 84/100\n",
            "55/55 [==============================] - 0s 2ms/step - loss: 0.8760 - accuracy: 0.6682\n",
            "Epoch 85/100\n",
            "55/55 [==============================] - 0s 2ms/step - loss: 0.8702 - accuracy: 0.6506\n",
            "Epoch 86/100\n",
            "55/55 [==============================] - 0s 2ms/step - loss: 0.8592 - accuracy: 0.6625\n",
            "Epoch 87/100\n",
            "55/55 [==============================] - 0s 2ms/step - loss: 0.8646 - accuracy: 0.6722\n",
            "Epoch 88/100\n",
            "55/55 [==============================] - 0s 2ms/step - loss: 0.8703 - accuracy: 0.6687\n",
            "Epoch 89/100\n",
            "55/55 [==============================] - 0s 2ms/step - loss: 0.8893 - accuracy: 0.6534\n",
            "Epoch 90/100\n",
            "55/55 [==============================] - 0s 2ms/step - loss: 0.8575 - accuracy: 0.6562\n",
            "Epoch 91/100\n",
            "55/55 [==============================] - 0s 2ms/step - loss: 0.8531 - accuracy: 0.6710\n",
            "Epoch 92/100\n",
            "55/55 [==============================] - 0s 2ms/step - loss: 0.8598 - accuracy: 0.6733\n",
            "Epoch 93/100\n",
            "55/55 [==============================] - 0s 2ms/step - loss: 0.8425 - accuracy: 0.6739\n",
            "Epoch 94/100\n",
            "55/55 [==============================] - 0s 2ms/step - loss: 0.8449 - accuracy: 0.6744\n",
            "Epoch 95/100\n",
            "55/55 [==============================] - 0s 2ms/step - loss: 0.8602 - accuracy: 0.6562\n",
            "Epoch 96/100\n",
            "55/55 [==============================] - 0s 2ms/step - loss: 0.8530 - accuracy: 0.6687\n",
            "Epoch 97/100\n",
            "55/55 [==============================] - 0s 2ms/step - loss: 0.8353 - accuracy: 0.6631\n",
            "Epoch 98/100\n",
            "55/55 [==============================] - 0s 2ms/step - loss: 0.8329 - accuracy: 0.6812\n",
            "Epoch 99/100\n",
            "55/55 [==============================] - 0s 2ms/step - loss: 0.8571 - accuracy: 0.6619\n",
            "Epoch 100/100\n",
            "55/55 [==============================] - 0s 2ms/step - loss: 0.8247 - accuracy: 0.6733\n"
          ]
        },
        {
          "output_type": "execute_result",
          "data": {
            "text/plain": [
              "<keras.src.callbacks.History at 0x781d49ef4760>"
            ]
          },
          "metadata": {},
          "execution_count": 29
        }
      ]
    },
    {
      "cell_type": "code",
      "source": [
        "test_loss, test_acc = model.evaluate(X_test, y_test)\n",
        "print(f'Test Accuracy: {test_acc}')\n"
      ],
      "metadata": {
        "colab": {
          "base_uri": "https://localhost:8080/"
        },
        "id": "jxnCZN4T8IXD",
        "outputId": "d0014523-c907-4e1d-fe92-474dce9ef3f7"
      },
      "execution_count": null,
      "outputs": [
        {
          "output_type": "stream",
          "name": "stdout",
          "text": [
            "14/14 [==============================] - 0s 2ms/step - loss: 0.9027 - accuracy: 0.6386\n",
            "Test Accuracy: 0.6386363506317139\n"
          ]
        }
      ]
    },
    {
      "cell_type": "code",
      "source": [
        "\n",
        "y_hat = model.predict(X_test)\n",
        "y_hat_classes = y_hat.argmax(axis=1)"
      ],
      "metadata": {
        "colab": {
          "base_uri": "https://localhost:8080/"
        },
        "id": "pFti1WVx8Ig8",
        "outputId": "65d716f9-a7ba-4845-ec0c-6b836c2fbb5c"
      },
      "execution_count": null,
      "outputs": [
        {
          "output_type": "stream",
          "name": "stdout",
          "text": [
            "14/14 [==============================] - 0s 1ms/step\n"
          ]
        }
      ]
    },
    {
      "cell_type": "code",
      "source": [
        "\n",
        "accuracy = accuracy_score(y_test, y_hat_classes)\n",
        "print(f'Accuracy: {accuracy}')\n",
        "\n"
      ],
      "metadata": {
        "colab": {
          "base_uri": "https://localhost:8080/"
        },
        "id": "-jjR0iGN8Ioa",
        "outputId": "a587c404-464a-4370-c571-3d0333f8c8c9"
      },
      "execution_count": null,
      "outputs": [
        {
          "output_type": "stream",
          "name": "stdout",
          "text": [
            "Accuracy: 0.6386363636363637\n"
          ]
        }
      ]
    },
    {
      "cell_type": "code",
      "source": [
        "new_df=pd.DataFrame([[13.02489,50.98861,88.55123]],columns=X.columns)\n",
        "\n",
        "predictions = model.predict(new_df)\n",
        "\n",
        "predicted_classes = predictions.argmax(axis=1)\n",
        "print(predicted_classes)\n",
        "predicted_labels = le.inverse_transform(predicted_classes)\n"
      ],
      "metadata": {
        "colab": {
          "base_uri": "https://localhost:8080/"
        },
        "id": "KeDAudSN8IrS",
        "outputId": "34f21d62-5046-48eb-af96-694e6c4766c3"
      },
      "execution_count": null,
      "outputs": [
        {
          "output_type": "stream",
          "name": "stdout",
          "text": [
            "1/1 [==============================] - 0s 21ms/step\n",
            "[8]\n"
          ]
        }
      ]
    },
    {
      "cell_type": "code",
      "source": [
        "print(predicted_labels)"
      ],
      "metadata": {
        "colab": {
          "base_uri": "https://localhost:8080/"
        },
        "id": "tawRV4R18Iuq",
        "outputId": "e0333add-b63e-4d6f-d4b0-f9998878f858"
      },
      "execution_count": null,
      "outputs": [
        {
          "output_type": "stream",
          "name": "stdout",
          "text": [
            "['jute']\n"
          ]
        }
      ]
    },
    {
      "cell_type": "code",
      "source": [
        "keras_file=\"linear.h5\"\n",
        "keras.models.save_model(model,keras_file)"
      ],
      "metadata": {
        "colab": {
          "base_uri": "https://localhost:8080/"
        },
        "id": "FvTrpu0198bP",
        "outputId": "ba55f358-35f8-4e8d-b77a-aff0baefaa71"
      },
      "execution_count": null,
      "outputs": [
        {
          "output_type": "stream",
          "name": "stderr",
          "text": [
            "<ipython-input-35-39bb9e0d703a>:2: UserWarning: You are saving your model as an HDF5 file via `model.save()`. This file format is considered legacy. We recommend using instead the native Keras format, e.g. `model.save('my_model.keras')`.\n",
            "  keras.models.save_model(model,keras_file)\n"
          ]
        }
      ]
    },
    {
      "cell_type": "code",
      "source": [
        "\n",
        "converter=tensorflow.lite.TFLiteConverter.from_keras_model(model=model)\n",
        "model_tflite=converter.convert()\n",
        "open(\"linearRegrssionModel.tflite\",\"wb\").write(model_tflite)"
      ],
      "metadata": {
        "colab": {
          "base_uri": "https://localhost:8080/"
        },
        "id": "x_xwD8Jp98iw",
        "outputId": "5ae552a6-9f1a-498e-9608-29bca4c2ffc1"
      },
      "execution_count": null,
      "outputs": [
        {
          "output_type": "execute_result",
          "data": {
            "text/plain": [
              "16804"
            ]
          },
          "metadata": {},
          "execution_count": 36
        }
      ]
    },
    {
      "cell_type": "code",
      "source": [],
      "metadata": {
        "id": "uVxp4Tzq98lx"
      },
      "execution_count": null,
      "outputs": []
    },
    {
      "cell_type": "code",
      "source": [],
      "metadata": {
        "id": "BkjD6xBI98or"
      },
      "execution_count": null,
      "outputs": []
    },
    {
      "cell_type": "code",
      "source": [],
      "metadata": {
        "id": "JVpUBfvD98sE"
      },
      "execution_count": null,
      "outputs": []
    },
    {
      "cell_type": "markdown",
      "source": [
        "# New Section"
      ],
      "metadata": {
        "id": "SgnfIUJJ6_nm"
      }
    }
  ]
}